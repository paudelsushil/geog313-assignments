{
 "cells": [
  {
   "cell_type": "markdown",
   "id": "d6650833-b6bf-471a-8954-c488c27b8211",
   "metadata": {
    "tags": []
   },
   "source": [
    "## Download Data from AWS S3 bucket"
   ]
  },
  {
   "cell_type": "markdown",
   "id": "c52fa4bd-3ab4-4114-96f4-4ed5d273a3cb",
   "metadata": {},
   "source": [
    "For this tutorial, we will use the NOAA Global Historical Climatology Network Daily (GHCN-D) data available on AWS S3. \n",
    "You can reach more about the data on Registry of Open Data on AWS [here](https://registry.opendata.aws/noaa-ghcn/).\n",
    "\n",
    "More information about the dataset, including the metadata descriptions, is available on [NOAA's website](https://www.ncei.noaa.gov/products/land-based-station/global-historical-climatology-network-daily). \n",
    "\n",
    "GHCN-D contains **daily observations** over global land areas. It contains station-based measurements from land-based stations worldwide, about two thirds of which are for precipitation measurement only. Some data are more than *175 years* old."
   ]
  },
  {
   "cell_type": "markdown",
   "id": "6bc7caba-5228-41af-92d2-c98eeea7e0db",
   "metadata": {
    "tags": []
   },
   "source": [
    "This dataset is very large and to analyze it within Python you need to use Dask Dataframe."
   ]
  },
  {
   "cell_type": "code",
   "execution_count": null,
   "id": "d591e2d6-178a-4524-8e4c-4145ce878879",
   "metadata": {
    "tags": []
   },
   "outputs": [],
   "source": [
    "# Download one year of data\n",
    "! aws s3 cp --no-sign-request s3://noaa-ghcn-pds/csv/by_year/2022.csv ."
   ]
  },
  {
   "cell_type": "code",
   "execution_count": null,
   "id": "64ba1a38-ce84-4896-82f1-3da13d2faca5",
   "metadata": {
    "tags": []
   },
   "outputs": [],
   "source": [
    "# Download all data since 2020\n",
    "! aws s3 cp --no-sign-request s3://noaa-ghcn-pds/csv/by_year/ . --recursive --exclude=\"*\" --include=\"202*\""
   ]
  },
  {
   "cell_type": "markdown",
   "id": "4a74dadf-5d3d-4224-895c-c34ad46ccd5e",
   "metadata": {
    "tags": []
   },
   "source": [
    "## Import Packages"
   ]
  },
  {
   "cell_type": "code",
   "execution_count": null,
   "id": "674b643b-48c1-4b48-992e-b865b5962ead",
   "metadata": {
    "tags": []
   },
   "outputs": [],
   "source": [
    "import dask.dataframe as dd"
   ]
  },
  {
   "cell_type": "code",
   "execution_count": null,
   "id": "75332b54-8b3e-4e00-b405-9f8c75144ab5",
   "metadata": {
    "tags": []
   },
   "outputs": [],
   "source": [
    "from dask.distributed import Client, LocalCluster\n",
    "cluster = LocalCluster()\n",
    "client = Client(cluster)\n",
    "client"
   ]
  },
  {
   "cell_type": "markdown",
   "id": "ca621f69-fe73-45b6-9ae5-ff53a8186123",
   "metadata": {},
   "source": [
    "## Read One CSV file"
   ]
  },
  {
   "cell_type": "code",
   "execution_count": null,
   "id": "452d022d-e62d-4329-9640-fea39170b93f",
   "metadata": {
    "tags": []
   },
   "outputs": [],
   "source": [
    "# Read a CSV file\n",
    "df = dd.read_csv(\"2022.csv\", dtype={'Q_FLAG': 'object'})"
   ]
  },
  {
   "cell_type": "code",
   "execution_count": null,
   "id": "cd497f80-9942-42ec-b36a-ad25742cccc5",
   "metadata": {
    "tags": []
   },
   "outputs": [],
   "source": [
    "df.npartitions"
   ]
  },
  {
   "cell_type": "code",
   "execution_count": null,
   "id": "9cb10290-4be6-49c5-b580-61d3ae0f2838",
   "metadata": {
    "tags": []
   },
   "outputs": [],
   "source": [
    "# Read a CSV file\n",
    "df = dd.read_csv(\"2022.csv\", dtype={'Q_FLAG': 'object'}, blocksize=25e6)"
   ]
  },
  {
   "cell_type": "code",
   "execution_count": null,
   "id": "2e64bcca-1475-4443-bcc4-725f8dac24c4",
   "metadata": {
    "tags": []
   },
   "outputs": [],
   "source": [
    "df.npartitions"
   ]
  },
  {
   "cell_type": "code",
   "execution_count": null,
   "id": "d094fe96-55cb-4151-825a-b754a0e4ac14",
   "metadata": {
    "tags": []
   },
   "outputs": [],
   "source": [
    "df.compute()"
   ]
  },
  {
   "cell_type": "markdown",
   "id": "2c8bda25-43f0-49f2-8caa-6f4e0d55f6a4",
   "metadata": {},
   "source": [
    "## Read Multiple CSVs"
   ]
  },
  {
   "cell_type": "code",
   "execution_count": null,
   "id": "c12bb7db-66ec-4185-b976-433b0bbd6bf7",
   "metadata": {
    "tags": []
   },
   "outputs": [],
   "source": [
    "large_df = dd.read_csv(\"*.csv\", dtype={'Q_FLAG': 'object'}, blocksize=25e6)"
   ]
  },
  {
   "cell_type": "code",
   "execution_count": null,
   "id": "77ed7865-916d-477d-acf1-f206279acb48",
   "metadata": {
    "tags": []
   },
   "outputs": [],
   "source": [
    "large_df.npartitions"
   ]
  },
  {
   "cell_type": "code",
   "execution_count": null,
   "id": "2a829bca-5ccc-4f1d-8762-d2c63346ca23",
   "metadata": {
    "tags": []
   },
   "outputs": [],
   "source": [
    "large_df"
   ]
  },
  {
   "cell_type": "code",
   "execution_count": null,
   "id": "f9a22191-f9be-46b9-be65-396c1fa39b43",
   "metadata": {
    "tags": []
   },
   "outputs": [],
   "source": [
    "# This is going to fail\n",
    "#large_df.compute()"
   ]
  },
  {
   "cell_type": "code",
   "execution_count": null,
   "id": "e50d2761-3810-4020-b01d-d051918916b6",
   "metadata": {
    "tags": []
   },
   "outputs": [],
   "source": [
    "mean_values = large_df.groupby(\"ELEMENT\")[\"DATA_VALUE\"].mean()"
   ]
  },
  {
   "cell_type": "code",
   "execution_count": null,
   "id": "242dfa6f-6be8-4da0-8f5b-6c84ee62cf51",
   "metadata": {
    "tags": []
   },
   "outputs": [],
   "source": [
    "mean_values.compute()"
   ]
  },
  {
   "cell_type": "code",
   "execution_count": null,
   "id": "84246bf2-2912-4b2a-901c-5086687abcbf",
   "metadata": {
    "tags": []
   },
   "outputs": [],
   "source": [
    "mean_values    "
   ]
  },
  {
   "cell_type": "code",
   "execution_count": null,
   "id": "1a8ed192-1210-4bb5-a18e-119213f3548d",
   "metadata": {
    "tags": []
   },
   "outputs": [],
   "source": [
    "worcester_df = large_df[large_df[\"ID\"].isin([\"US1MAWR0097\"])]"
   ]
  },
  {
   "cell_type": "code",
   "execution_count": null,
   "id": "52eaec1c-b2b6-4c11-8edf-195b7a8e7f53",
   "metadata": {
    "tags": []
   },
   "outputs": [],
   "source": [
    "worcester_df"
   ]
  },
  {
   "cell_type": "code",
   "execution_count": null,
   "id": "f100d120-6fc1-445f-9b30-669081f65200",
   "metadata": {
    "tags": []
   },
   "outputs": [],
   "source": [
    "worcester_mean = worcester_df.groupby(\"ELEMENT\")[\"DATA_VALUE\"].mean()"
   ]
  },
  {
   "cell_type": "code",
   "execution_count": null,
   "id": "93ec22a0-f675-4163-91e3-9f38fae52d43",
   "metadata": {
    "tags": []
   },
   "outputs": [],
   "source": [
    "worcester_mean"
   ]
  },
  {
   "cell_type": "code",
   "execution_count": null,
   "id": "52c77e6d-dc71-481b-bf88-1e8dfd5c4aa0",
   "metadata": {
    "tags": []
   },
   "outputs": [],
   "source": [
    "worcester_mean.compute()"
   ]
  },
  {
   "cell_type": "code",
   "execution_count": null,
   "id": "14396f8a-e1f6-4327-91bb-24946c454d17",
   "metadata": {},
   "outputs": [],
   "source": [
    "# Task: find the station with the highest number of snow days in a year\n"
   ]
  }
 ],
 "metadata": {
  "kernelspec": {
   "display_name": "Python 3 (ipykernel)",
   "language": "python",
   "name": "python3"
  },
  "language_info": {
   "codemirror_mode": {
    "name": "ipython",
    "version": 3
   },
   "file_extension": ".py",
   "mimetype": "text/x-python",
   "name": "python",
   "nbconvert_exporter": "python",
   "pygments_lexer": "ipython3",
   "version": "3.11.4"
  }
 },
 "nbformat": 4,
 "nbformat_minor": 5
}
